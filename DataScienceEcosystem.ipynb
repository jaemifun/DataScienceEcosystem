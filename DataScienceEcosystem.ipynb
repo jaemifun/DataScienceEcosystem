{
 "cells": [
  {
   "cell_type": "markdown",
   "id": "26053f87-b4ce-4605-8739-7b4273e3e80a",
   "metadata": {},
   "source": [
    "Data Science Tools and Ecosystem"
   ]
  },
  {
   "cell_type": "markdown",
   "id": "c3b45b91-3f49-4bd7-b80c-9d3e9ae76fb8",
   "metadata": {},
   "source": [
    "In this notebook, Data Science Tools and Ecosystem are summarized."
   ]
  },
  {
   "cell_type": "code",
   "execution_count": 3,
   "id": "64e749f0-a953-4e13-a63d-129ad653ecf1",
   "metadata": {},
   "outputs": [],
   "source": [
    "Some of the popular languages that Data Scientists use are:"
   ]
  },
  {
   "cell_type": "markdown",
   "id": "6ada0b7d-e710-4b27-9155-8e5c29bb2c54",
   "metadata": {},
   "source": [
    "1. Python\n",
    "2. R\n",
    "3. SQL\n",
    "4. Julia\n",
    "5. Scala"
   ]
  },
  {
   "cell_type": "code",
   "execution_count": 6,
   "id": "7bb8f68d-c176-478d-99f1-2afb04f10671",
   "metadata": {},
   "outputs": [],
   "source": [
    "#Some of the commonly used libraries used by Data Scientists include:"
   ]
  },
  {
   "cell_type": "markdown",
   "id": "1402172c-4e1a-462e-acbc-011639f23b49",
   "metadata": {},
   "source": [
    "1. Pandas\n",
    "2. NumPy\n",
    "3. Matplotlib\n",
    "4. Scikit-learn"
   ]
  },
  {
   "cell_type": "markdown",
   "id": "c65b4413-c3b4-4890-96f0-af67670d0299",
   "metadata": {},
   "source": [
    "| Data Science Tools |\n",
    "|--------------------|\n",
    "| Jupyter Notebook  |\n",
    "| RStudio          |\n",
    "| Apache Spark     |"
   ]
  },
  {
   "cell_type": "markdown",
   "id": "d8fdb33d-0568-4070-87f5-5b187b0c6a38",
   "metadata": {},
   "source": [
    "### Below are few examples of evaluation arithmetic expression in Python."
   ]
  },
  {
   "cell_type": "code",
   "execution_count": 10,
   "id": "4733aeb3-88c3-4386-bf1a-da11f17eaf54",
   "metadata": {},
   "outputs": [
    {
     "data": {
      "text/plain": [
       "17"
      ]
     },
     "execution_count": 10,
     "metadata": {},
     "output_type": "execute_result"
    }
   ],
   "source": [
    "# This is a simple arithmetic expression to multiply then add integers\n",
    "(3 * 4) + 5"
   ]
  },
  {
   "cell_type": "code",
   "execution_count": 11,
   "id": "bb1a7d61-a38e-4690-80a9-c2026de9c12b",
   "metadata": {},
   "outputs": [
    {
     "data": {
      "text/plain": [
       "3.3333333333333335"
      ]
     },
     "execution_count": 11,
     "metadata": {},
     "output_type": "execute_result"
    }
   ],
   "source": [
    "# This will convert 200 minutes to hours by dividing by 60\n",
    "200 / 60"
   ]
  },
  {
   "cell_type": "markdown",
   "id": "c73402e5-ede8-4a4e-80c3-b79acc7b0160",
   "metadata": {},
   "source": [
    "**Objectives:**\n",
    "- List popular languages for Data Science\n",
    "- Identify commonly used Data Science libraries\n",
    "- Understand Data Science tools\n",
    "- Perform simple arithmetic operations in Python"
   ]
  },
  {
   "cell_type": "markdown",
   "id": "e29dfdf6-6809-42cd-af92-604285115511",
   "metadata": {},
   "source": [
    "## Author\n",
    "JK # Replace with your name"
   ]
  }
 ],
 "metadata": {
  "kernelspec": {
   "display_name": "Python 3 (ipykernel)",
   "language": "python",
   "name": "python3"
  },
  "language_info": {
   "codemirror_mode": {
    "name": "ipython",
    "version": 3
   },
   "file_extension": ".py",
   "mimetype": "text/x-python",
   "name": "python",
   "nbconvert_exporter": "python",
   "pygments_lexer": "ipython3",
   "version": "3.12.8"
  }
 },
 "nbformat": 4,
 "nbformat_minor": 5
}
